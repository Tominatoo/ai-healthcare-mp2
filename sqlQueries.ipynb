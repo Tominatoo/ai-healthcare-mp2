{
 "cells": [
  {
   "cell_type": "code",
   "execution_count": 6,
   "metadata": {},
   "outputs": [
    {
     "name": "stdout",
     "output_type": "stream",
     "text": [
      "(0, 21, 22, 165315, '2196-04-09 12:26:00', '2196-04-10 15:54:00', None, 'EMERGENCY', 'EMERGENCY ROOM ADMIT', 'DISC-TRAN CANCER/CHLDRN H', 'Private', None, 'UNOBTAINABLE', 'MARRIED', 'WHITE', '2196-04-09 10:06:00', '2196-04-09 13:24:00', 'BENZODIAZEPINE OVERDOSE', 0, 1)\n",
      "(1, 22, 23, 152223, '2153-09-03 07:15:00', '2153-09-08 19:10:00', None, 'ELECTIVE', 'PHYS REFERRAL/NORMAL DELI', 'HOME HEALTH CARE', 'Medicare', None, 'CATHOLIC', 'MARRIED', 'WHITE', None, None, 'CORONARY ARTERY DISEASE\\\\CORONARY ARTERY BYPASS GRAFT/SDA', 0, 1)\n",
      "(2, 23, 23, 124321, '2157-10-18 19:34:00', '2157-10-25 14:00:00', None, 'EMERGENCY', 'TRANSFER FROM HOSP/EXTRAM', 'HOME HEALTH CARE', 'Medicare', 'ENGL', 'CATHOLIC', 'MARRIED', 'WHITE', None, None, 'BRAIN MASS', 0, 1)\n",
      "(3, 24, 24, 161859, '2139-06-06 16:14:00', '2139-06-09 12:48:00', None, 'EMERGENCY', 'TRANSFER FROM HOSP/EXTRAM', 'HOME', 'Private', None, 'PROTESTANT QUAKER', 'SINGLE', 'WHITE', None, None, 'INTERIOR MYOCARDIAL INFARCTION', 0, 1)\n",
      "(4, 25, 25, 129635, '2160-11-02 02:06:00', '2160-11-05 14:55:00', None, 'EMERGENCY', 'EMERGENCY ROOM ADMIT', 'HOME', 'Private', None, 'UNOBTAINABLE', 'MARRIED', 'WHITE', '2160-11-02 01:01:00', '2160-11-02 04:27:00', 'ACUTE CORONARY SYNDROME', 0, 1)\n",
      "(5, 26, 26, 197661, '2126-05-06 15:16:00', '2126-05-13 15:00:00', None, 'EMERGENCY', 'TRANSFER FROM HOSP/EXTRAM', 'HOME', 'Medicare', None, 'CATHOLIC', 'SINGLE', 'UNKNOWN/NOT SPECIFIED', None, None, 'V-TACH', 0, 1)\n",
      "(6, 27, 27, 134931, '2191-11-30 22:16:00', '2191-12-03 14:45:00', None, 'NEWBORN', 'PHYS REFERRAL/NORMAL DELI', 'HOME', 'Private', None, 'CATHOLIC', None, 'WHITE', None, None, 'NEWBORN', 0, 1)\n",
      "(7, 28, 28, 162569, '2177-09-01 07:15:00', '2177-09-06 16:00:00', None, 'ELECTIVE', 'PHYS REFERRAL/NORMAL DELI', 'HOME HEALTH CARE', 'Medicare', None, 'CATHOLIC', 'MARRIED', 'WHITE', None, None, 'CORONARY ARTERY DISEASE\\\\CORONARY ARTERY BYPASS GRAFT/SDA', 0, 1)\n",
      "(8, 29, 30, 104557, '2172-10-14 14:17:00', '2172-10-19 14:37:00', None, 'URGENT', 'TRANSFER FROM HOSP/EXTRAM', 'HOME HEALTH CARE', 'Medicare', None, 'CATHOLIC', 'MARRIED', 'UNKNOWN/NOT SPECIFIED', None, None, 'UNSTABLE ANGINA\\\\CATH', 0, 1)\n",
      "(9, 30, 31, 128652, '2108-08-22 23:27:00', '2108-08-30 15:00:00', '2108-08-30 15:00:00', 'EMERGENCY', 'TRANSFER FROM HOSP/EXTRAM', 'DEAD/EXPIRED', 'Medicare', None, 'CATHOLIC', 'MARRIED', 'WHITE', None, None, 'STATUS EPILEPTICUS', 1, 1)\n"
     ]
    }
   ],
   "source": [
    "import os\n",
    "import pandas as pd\n",
    "import mysql.connector\n",
    "\n",
    "from sqlalchemy import create_engine, inspect, text\n",
    "from sqlalchemy.orm import sessionmaker\n",
    "\n",
    "# MySQL connection settings\n",
    "user = 'root'\n",
    "password = os.environ.get('MYSQL_PASSWORD')\n",
    "host = 'localhost'\n",
    "database = 'mimic'\n",
    "\n",
    "## Create a connection to the MySQL database\n",
    "#engine = create_engine(f'mysql+mysqlconnector://{user}:{password}@{host}/{database}')\n",
    "#\n",
    "## Example SQL query: SELECT all records from the 'admissions' table\n",
    "#with engine.connect() as connection:\n",
    "#    result = connection.execute(text(\"SELECT * FROM ADMISSIONS LIMIT 10\"))\n",
    "#    for row in result:\n",
    "#        print(row)  # Print each row returned by the query\n",
    "#\n",
    "## Close the connection\n",
    "#engine.dispose()\n"
   ]
  },
  {
   "cell_type": "code",
   "execution_count": 10,
   "metadata": {},
   "outputs": [
    {
     "name": "stdout",
     "output_type": "stream",
     "text": [
      "('EMERGENCY', 42071)\n",
      "('ELECTIVE', 7706)\n",
      "('NEWBORN', 7863)\n",
      "('URGENT', 1336)\n"
     ]
    }
   ],
   "source": [
    "#Query 0\n",
    "\n",
    "# Create a connection to the MySQL database\n",
    "engine = create_engine(f'mysql+mysqlconnector://{user}:{password}@{host}/{database}')\n",
    "\n",
    "with open('query0.sql', 'r') as file:\n",
    "    sql_query = file.read()\n",
    "\n",
    "# Example SQL query: SELECT all records from the 'admissions' table\n",
    "with engine.connect() as connection:\n",
    "    result = connection.execute(text(sql_query))\n",
    "    for row in result:\n",
    "        print(row)  # Print each row returned by the query\n",
    "\n",
    "# Close the connection\n",
    "engine.dispose()"
   ]
  },
  {
   "cell_type": "code",
   "execution_count": 23,
   "metadata": {},
   "outputs": [
    {
     "name": "stdout",
     "output_type": "stream",
     "text": [
      "('4019', 'Hypertension NOS', 20703)\n"
     ]
    }
   ],
   "source": [
    "#Query 1\n",
    "\n",
    "# Create a connection to the MySQL database\n",
    "engine = create_engine(f'mysql+mysqlconnector://{user}:{password}@{host}/{database}')\n",
    "\n",
    "with open('query1.sql', 'r') as file:\n",
    "    sql_query = file.read()\n",
    "\n",
    "# Example SQL query: SELECT all records from the 'admissions' table\n",
    "with engine.connect() as connection:\n",
    "    result = connection.execute(text(sql_query))\n",
    "    for row in result:\n",
    "        print(row)  # Print each row returned by the query\n",
    "\n",
    "# Close the connection\n",
    "engine.dispose()"
   ]
  },
  {
   "cell_type": "code",
   "execution_count": 47,
   "metadata": {},
   "outputs": [
    {
     "name": "stdout",
     "output_type": "stream",
     "text": [
      "('EMERGENCY', Decimal('0.7134'))\n",
      "('ELECTIVE', Decimal('0.1307'))\n",
      "('NEWBORN', Decimal('0.1333'))\n",
      "('URGENT', Decimal('0.0227'))\n"
     ]
    }
   ],
   "source": [
    "#Query 2\n",
    "\n",
    "# Create a connection to the MySQL database\n",
    "engine = create_engine(f'mysql+mysqlconnector://{user}:{password}@{host}/{database}')\n",
    "\n",
    "with open('query2.sql', 'r') as file:\n",
    "    sql_query = file.read()\n",
    "\n",
    "# Example SQL query: SELECT all records from the 'admissions' table\n",
    "with engine.connect() as connection:\n",
    "    result = connection.execute(text(sql_query))\n",
    "    for row in result:\n",
    "        print(row)  # Print each row returned by the query\n",
    "\n",
    "# Close the connection\n",
    "engine.dispose()"
   ]
  },
  {
   "cell_type": "code",
   "execution_count": 48,
   "metadata": {},
   "outputs": [
    {
     "name": "stdout",
     "output_type": "stream",
     "text": [
      "('EMERGENCY', Decimal('0.8272'))\n",
      "('ELECTIVE', Decimal('0.1515'))\n",
      "('URGENT', Decimal('0.0209'))\n",
      "('NEWBORN', Decimal('0.0004'))\n"
     ]
    }
   ],
   "source": [
    "#Query 3\n",
    "\n",
    "# Create a connection to the MySQL database\n",
    "engine = create_engine(f'mysql+mysqlconnector://{user}:{password}@{host}/{database}')\n",
    "\n",
    "with open('query3.sql', 'r') as file:\n",
    "    sql_query = file.read()\n",
    "\n",
    "# Example SQL query: SELECT all records from the 'admissions' table\n",
    "with engine.connect() as connection:\n",
    "    result = connection.execute(text(sql_query))\n",
    "    for row in result:\n",
    "        print(row)  # Print each row returned by the query\n",
    "\n",
    "# Close the connection\n",
    "engine.dispose()"
   ]
  },
  {
   "cell_type": "code",
   "execution_count": 58,
   "metadata": {},
   "outputs": [
    {
     "name": "stdout",
     "output_type": "stream",
     "text": [
      "('ASIAN', 436, Decimal('0.0118'), 'Hypertension')\n",
      "('ASIAN', 1509, Decimal('0.0256'), 'Overall')\n",
      "('BLACK/AFRICAN AMERICAN', 5069, Decimal('0.1373'), 'Hypertension')\n",
      "('BLACK/AFRICAN AMERICAN', 5440, Decimal('0.0922'), 'Overall')\n",
      "('HISPANIC OR LATINO', 816, Decimal('0.0221'), 'Hypertension')\n",
      "('HISPANIC OR LATINO', 1696, Decimal('0.0288'), 'Overall')\n",
      "('HISPANIC/LATINO - PUERTO RICAN', 383, Decimal('0.0104'), 'Hypertension')\n",
      "('OTHER', 803, Decimal('0.0217'), 'Hypertension')\n",
      "('OTHER', 1512, Decimal('0.0256'), 'Overall')\n",
      "('PATIENT DECLINED TO ANSWER', 239, Decimal('0.0065'), 'Hypertension')\n",
      "('PATIENT DECLINED TO ANSWER', 559, Decimal('0.0095'), 'Overall')\n",
      "('UNABLE TO OBTAIN', 403, Decimal('0.0109'), 'Hypertension')\n",
      "('UNABLE TO OBTAIN', 814, Decimal('0.0138'), 'Overall')\n",
      "('UNKNOWN/NOT SPECIFIED', 2045, Decimal('0.0554'), 'Hypertension')\n",
      "('UNKNOWN/NOT SPECIFIED', 4523, Decimal('0.0767'), 'Overall')\n",
      "('WHITE', 25762, Decimal('0.6977'), 'Hypertension')\n",
      "('WHITE', 40996, Decimal('0.6951'), 'Overall')\n"
     ]
    }
   ],
   "source": [
    "#Query 4\n",
    "\n",
    "# Create a connection to the MySQL database\n",
    "engine = create_engine(f'mysql+mysqlconnector://{user}:{password}@{host}/{database}')\n",
    "\n",
    "with open('query4.sql', 'r') as file:\n",
    "    sql_query = file.read()\n",
    "\n",
    "# Example SQL query: SELECT all records from the 'admissions' table\n",
    "with engine.connect() as connection:\n",
    "    result = connection.execute(text(sql_query))\n",
    "    for row in result:\n",
    "        print(row)  # Print each row returned by the query\n",
    "\n",
    "# Close the connection\n",
    "engine.dispose()"
   ]
  },
  {
   "cell_type": "code",
   "execution_count": null,
   "metadata": {},
   "outputs": [],
   "source": [
    "#Query 5\n",
    "\n",
    "# Create a connection to the MySQL database\n",
    "engine = create_engine(f'mysql+mysqlconnector://{user}:{password}@{host}/{database}')\n",
    "\n",
    "with open('query5.sql', 'r') as file:\n",
    "    sql_query = file.read()\n",
    "\n",
    "# Example SQL query: SELECT all records from the 'admissions' table\n",
    "with engine.connect() as connection:\n",
    "    result = connection.execute(text(sql_query))\n",
    "    for row in result:\n",
    "        print(row)  # Print each row returned by the query\n",
    "\n",
    "# Close the connection\n",
    "engine.dispose()"
   ]
  },
  {
   "cell_type": "code",
   "execution_count": null,
   "metadata": {},
   "outputs": [],
   "source": [
    "#Query 6\n",
    "\n",
    "# Create a connection to the MySQL database\n",
    "engine = create_engine(f'mysql+mysqlconnector://{user}:{password}@{host}/{database}')\n",
    "\n",
    "with open('query6.sql', 'r') as file:\n",
    "    sql_query = file.read()\n",
    "\n",
    "# Example SQL query: SELECT all records from the 'admissions' table\n",
    "with engine.connect() as connection:\n",
    "    result = connection.execute(text(sql_query))\n",
    "    for row in result:\n",
    "        print(row)  # Print each row returned by the query\n",
    "\n",
    "# Close the connection\n",
    "engine.dispose()"
   ]
  },
  {
   "cell_type": "code",
   "execution_count": null,
   "metadata": {},
   "outputs": [],
   "source": [
    "#Query 7\n",
    "\n",
    "# Create a connection to the MySQL database\n",
    "engine = create_engine(f'mysql+mysqlconnector://{user}:{password}@{host}/{database}')\n",
    "\n",
    "with open('query7.sql', 'r') as file:\n",
    "    sql_query = file.read()\n",
    "\n",
    "# Example SQL query: SELECT all records from the 'admissions' table\n",
    "with engine.connect() as connection:\n",
    "    result = connection.execute(text(sql_query))\n",
    "    for row in result:\n",
    "        print(row)  # Print each row returned by the query\n",
    "\n",
    "# Close the connection\n",
    "engine.dispose()"
   ]
  },
  {
   "cell_type": "code",
   "execution_count": null,
   "metadata": {},
   "outputs": [],
   "source": [
    "#Query 8\n",
    "\n",
    "# Create a connection to the MySQL database\n",
    "engine = create_engine(f'mysql+mysqlconnector://{user}:{password}@{host}/{database}')\n",
    "\n",
    "with open('query8.sql', 'r') as file:\n",
    "    sql_query = file.read()\n",
    "\n",
    "# Example SQL query: SELECT all records from the 'admissions' table\n",
    "with engine.connect() as connection:\n",
    "    result = connection.execute(text(sql_query))\n",
    "    for row in result:\n",
    "        print(row)  # Print each row returned by the query\n",
    "\n",
    "# Close the connection\n",
    "engine.dispose()"
   ]
  },
  {
   "cell_type": "code",
   "execution_count": null,
   "metadata": {},
   "outputs": [],
   "source": [
    "#Query 9\n",
    "\n",
    "# Create a connection to the MySQL database\n",
    "engine = create_engine(f'mysql+mysqlconnector://{user}:{password}@{host}/{database}')\n",
    "\n",
    "with open('query9.sql', 'r') as file:\n",
    "    sql_query = file.read()\n",
    "\n",
    "# Example SQL query: SELECT all records from the 'admissions' table\n",
    "with engine.connect() as connection:\n",
    "    result = connection.execute(text(sql_query))\n",
    "    for row in result:\n",
    "        print(row)  # Print each row returned by the query\n",
    "\n",
    "# Close the connection\n",
    "engine.dispose()"
   ]
  }
 ],
 "metadata": {
  "kernelspec": {
   "display_name": "base",
   "language": "python",
   "name": "python3"
  },
  "language_info": {
   "codemirror_mode": {
    "name": "ipython",
    "version": 3
   },
   "file_extension": ".py",
   "mimetype": "text/x-python",
   "name": "python",
   "nbconvert_exporter": "python",
   "pygments_lexer": "ipython3",
   "version": "3.11.2"
  }
 },
 "nbformat": 4,
 "nbformat_minor": 2
}
